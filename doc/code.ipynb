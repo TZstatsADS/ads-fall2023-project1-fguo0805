{
 "cells": [
  {
   "cell_type": "code",
   "execution_count": 32,
   "metadata": {},
   "outputs": [],
   "source": [
    "import pandas as pd\n",
    "import ssl \n",
    "import matplotlib.pyplot as plt\n",
    "import numpy as np\n",
    "import plotly.express as px"
   ]
  },
  {
   "cell_type": "code",
   "execution_count": 2,
   "metadata": {},
   "outputs": [
    {
     "data": {
      "text/html": [
       "<div>\n",
       "<style scoped>\n",
       "    .dataframe tbody tr th:only-of-type {\n",
       "        vertical-align: middle;\n",
       "    }\n",
       "\n",
       "    .dataframe tbody tr th {\n",
       "        vertical-align: top;\n",
       "    }\n",
       "\n",
       "    .dataframe thead th {\n",
       "        text-align: right;\n",
       "    }\n",
       "</style>\n",
       "<table border=\"1\" class=\"dataframe\">\n",
       "  <thead>\n",
       "    <tr style=\"text-align: right;\">\n",
       "      <th></th>\n",
       "      <th>hmid</th>\n",
       "      <th>wid</th>\n",
       "      <th>reflection_period</th>\n",
       "      <th>original_hm</th>\n",
       "      <th>cleaned_hm</th>\n",
       "      <th>modified</th>\n",
       "      <th>num_sentence</th>\n",
       "      <th>ground_truth_category</th>\n",
       "      <th>predicted_category</th>\n",
       "    </tr>\n",
       "  </thead>\n",
       "  <tbody>\n",
       "    <tr>\n",
       "      <th>0</th>\n",
       "      <td>27673</td>\n",
       "      <td>2053</td>\n",
       "      <td>24h</td>\n",
       "      <td>I went on a successful date with someone I fel...</td>\n",
       "      <td>I went on a successful date with someone I fel...</td>\n",
       "      <td>True</td>\n",
       "      <td>1</td>\n",
       "      <td>NaN</td>\n",
       "      <td>affection</td>\n",
       "    </tr>\n",
       "    <tr>\n",
       "      <th>1</th>\n",
       "      <td>27674</td>\n",
       "      <td>2</td>\n",
       "      <td>24h</td>\n",
       "      <td>I was happy when my son got 90% marks in his e...</td>\n",
       "      <td>I was happy when my son got 90% marks in his e...</td>\n",
       "      <td>True</td>\n",
       "      <td>1</td>\n",
       "      <td>NaN</td>\n",
       "      <td>affection</td>\n",
       "    </tr>\n",
       "    <tr>\n",
       "      <th>2</th>\n",
       "      <td>27675</td>\n",
       "      <td>1936</td>\n",
       "      <td>24h</td>\n",
       "      <td>I went to the gym this morning and did yoga.</td>\n",
       "      <td>I went to the gym this morning and did yoga.</td>\n",
       "      <td>True</td>\n",
       "      <td>1</td>\n",
       "      <td>NaN</td>\n",
       "      <td>exercise</td>\n",
       "    </tr>\n",
       "    <tr>\n",
       "      <th>3</th>\n",
       "      <td>27676</td>\n",
       "      <td>206</td>\n",
       "      <td>24h</td>\n",
       "      <td>We had a serious talk with some friends of our...</td>\n",
       "      <td>We had a serious talk with some friends of our...</td>\n",
       "      <td>True</td>\n",
       "      <td>2</td>\n",
       "      <td>bonding</td>\n",
       "      <td>bonding</td>\n",
       "    </tr>\n",
       "    <tr>\n",
       "      <th>4</th>\n",
       "      <td>27677</td>\n",
       "      <td>6227</td>\n",
       "      <td>24h</td>\n",
       "      <td>I went with grandchildren to butterfly display...</td>\n",
       "      <td>I went with grandchildren to butterfly display...</td>\n",
       "      <td>True</td>\n",
       "      <td>1</td>\n",
       "      <td>NaN</td>\n",
       "      <td>affection</td>\n",
       "    </tr>\n",
       "    <tr>\n",
       "      <th>...</th>\n",
       "      <td>...</td>\n",
       "      <td>...</td>\n",
       "      <td>...</td>\n",
       "      <td>...</td>\n",
       "      <td>...</td>\n",
       "      <td>...</td>\n",
       "      <td>...</td>\n",
       "      <td>...</td>\n",
       "      <td>...</td>\n",
       "    </tr>\n",
       "    <tr>\n",
       "      <th>100530</th>\n",
       "      <td>128762</td>\n",
       "      <td>112</td>\n",
       "      <td>24h</td>\n",
       "      <td>My husband announced he is getting a decent bo...</td>\n",
       "      <td>My husband announced he is getting a decent bo...</td>\n",
       "      <td>True</td>\n",
       "      <td>1</td>\n",
       "      <td>NaN</td>\n",
       "      <td>affection</td>\n",
       "    </tr>\n",
       "    <tr>\n",
       "      <th>100531</th>\n",
       "      <td>128763</td>\n",
       "      <td>714</td>\n",
       "      <td>24h</td>\n",
       "      <td>Had a can of Pepsi to drink.</td>\n",
       "      <td>Had a can of Pepsi to drink.</td>\n",
       "      <td>True</td>\n",
       "      <td>1</td>\n",
       "      <td>NaN</td>\n",
       "      <td>enjoy_the_moment</td>\n",
       "    </tr>\n",
       "    <tr>\n",
       "      <th>100532</th>\n",
       "      <td>128764</td>\n",
       "      <td>3934</td>\n",
       "      <td>24h</td>\n",
       "      <td>Cuddling with my girlfriend last night.</td>\n",
       "      <td>Cuddling with my girlfriend last night.</td>\n",
       "      <td>True</td>\n",
       "      <td>1</td>\n",
       "      <td>affection</td>\n",
       "      <td>affection</td>\n",
       "    </tr>\n",
       "    <tr>\n",
       "      <th>100533</th>\n",
       "      <td>128765</td>\n",
       "      <td>1629</td>\n",
       "      <td>24h</td>\n",
       "      <td>I had a great meeting yesterday at work with m...</td>\n",
       "      <td>I had a great meeting yesterday at work with m...</td>\n",
       "      <td>True</td>\n",
       "      <td>1</td>\n",
       "      <td>NaN</td>\n",
       "      <td>bonding</td>\n",
       "    </tr>\n",
       "    <tr>\n",
       "      <th>100534</th>\n",
       "      <td>128766</td>\n",
       "      <td>141</td>\n",
       "      <td>24h</td>\n",
       "      <td>I had a great workout last night.</td>\n",
       "      <td>I had a great workout last night.</td>\n",
       "      <td>True</td>\n",
       "      <td>1</td>\n",
       "      <td>NaN</td>\n",
       "      <td>exercise</td>\n",
       "    </tr>\n",
       "  </tbody>\n",
       "</table>\n",
       "<p>100535 rows × 9 columns</p>\n",
       "</div>"
      ],
      "text/plain": [
       "          hmid   wid reflection_period  \\\n",
       "0        27673  2053               24h   \n",
       "1        27674     2               24h   \n",
       "2        27675  1936               24h   \n",
       "3        27676   206               24h   \n",
       "4        27677  6227               24h   \n",
       "...        ...   ...               ...   \n",
       "100530  128762   112               24h   \n",
       "100531  128763   714               24h   \n",
       "100532  128764  3934               24h   \n",
       "100533  128765  1629               24h   \n",
       "100534  128766   141               24h   \n",
       "\n",
       "                                              original_hm  \\\n",
       "0       I went on a successful date with someone I fel...   \n",
       "1       I was happy when my son got 90% marks in his e...   \n",
       "2            I went to the gym this morning and did yoga.   \n",
       "3       We had a serious talk with some friends of our...   \n",
       "4       I went with grandchildren to butterfly display...   \n",
       "...                                                   ...   \n",
       "100530  My husband announced he is getting a decent bo...   \n",
       "100531                       Had a can of Pepsi to drink.   \n",
       "100532            Cuddling with my girlfriend last night.   \n",
       "100533  I had a great meeting yesterday at work with m...   \n",
       "100534                  I had a great workout last night.   \n",
       "\n",
       "                                               cleaned_hm  modified  \\\n",
       "0       I went on a successful date with someone I fel...      True   \n",
       "1       I was happy when my son got 90% marks in his e...      True   \n",
       "2            I went to the gym this morning and did yoga.      True   \n",
       "3       We had a serious talk with some friends of our...      True   \n",
       "4       I went with grandchildren to butterfly display...      True   \n",
       "...                                                   ...       ...   \n",
       "100530  My husband announced he is getting a decent bo...      True   \n",
       "100531                       Had a can of Pepsi to drink.      True   \n",
       "100532            Cuddling with my girlfriend last night.      True   \n",
       "100533  I had a great meeting yesterday at work with m...      True   \n",
       "100534                  I had a great workout last night.      True   \n",
       "\n",
       "        num_sentence ground_truth_category predicted_category  \n",
       "0                  1                   NaN          affection  \n",
       "1                  1                   NaN          affection  \n",
       "2                  1                   NaN           exercise  \n",
       "3                  2               bonding            bonding  \n",
       "4                  1                   NaN          affection  \n",
       "...              ...                   ...                ...  \n",
       "100530             1                   NaN          affection  \n",
       "100531             1                   NaN   enjoy_the_moment  \n",
       "100532             1             affection          affection  \n",
       "100533             1                   NaN            bonding  \n",
       "100534             1                   NaN           exercise  \n",
       "\n",
       "[100535 rows x 9 columns]"
      ]
     },
     "execution_count": 2,
     "metadata": {},
     "output_type": "execute_result"
    }
   ],
   "source": [
    "# Replace 'github_raw_url' with the raw URL of your data file on GitHub\n",
    "github_raw_url = 'https://raw.githubusercontent.com/rit-public/HappyDB/master/happydb/data/cleaned_hm.csv'\n",
    "\n",
    "# Use Pandas to read data directly from the URL\n",
    "df_clean = pd.read_csv(github_raw_url)\n",
    "df_clean"
   ]
  },
  {
   "cell_type": "code",
   "execution_count": 3,
   "metadata": {},
   "outputs": [
    {
     "data": {
      "text/html": [
       "<div>\n",
       "<style scoped>\n",
       "    .dataframe tbody tr th:only-of-type {\n",
       "        vertical-align: middle;\n",
       "    }\n",
       "\n",
       "    .dataframe tbody tr th {\n",
       "        vertical-align: top;\n",
       "    }\n",
       "\n",
       "    .dataframe thead th {\n",
       "        text-align: right;\n",
       "    }\n",
       "</style>\n",
       "<table border=\"1\" class=\"dataframe\">\n",
       "  <thead>\n",
       "    <tr style=\"text-align: right;\">\n",
       "      <th></th>\n",
       "      <th>wid</th>\n",
       "      <th>age</th>\n",
       "      <th>country</th>\n",
       "      <th>gender</th>\n",
       "      <th>marital</th>\n",
       "      <th>parenthood</th>\n",
       "    </tr>\n",
       "  </thead>\n",
       "  <tbody>\n",
       "    <tr>\n",
       "      <th>0</th>\n",
       "      <td>1</td>\n",
       "      <td>37.0</td>\n",
       "      <td>USA</td>\n",
       "      <td>m</td>\n",
       "      <td>married</td>\n",
       "      <td>y</td>\n",
       "    </tr>\n",
       "    <tr>\n",
       "      <th>1</th>\n",
       "      <td>2</td>\n",
       "      <td>29.0</td>\n",
       "      <td>IND</td>\n",
       "      <td>m</td>\n",
       "      <td>married</td>\n",
       "      <td>y</td>\n",
       "    </tr>\n",
       "    <tr>\n",
       "      <th>2</th>\n",
       "      <td>3</td>\n",
       "      <td>25</td>\n",
       "      <td>IND</td>\n",
       "      <td>m</td>\n",
       "      <td>single</td>\n",
       "      <td>n</td>\n",
       "    </tr>\n",
       "    <tr>\n",
       "      <th>3</th>\n",
       "      <td>4</td>\n",
       "      <td>32</td>\n",
       "      <td>USA</td>\n",
       "      <td>m</td>\n",
       "      <td>married</td>\n",
       "      <td>y</td>\n",
       "    </tr>\n",
       "    <tr>\n",
       "      <th>4</th>\n",
       "      <td>5</td>\n",
       "      <td>29</td>\n",
       "      <td>USA</td>\n",
       "      <td>m</td>\n",
       "      <td>married</td>\n",
       "      <td>y</td>\n",
       "    </tr>\n",
       "    <tr>\n",
       "      <th>...</th>\n",
       "      <td>...</td>\n",
       "      <td>...</td>\n",
       "      <td>...</td>\n",
       "      <td>...</td>\n",
       "      <td>...</td>\n",
       "      <td>...</td>\n",
       "    </tr>\n",
       "    <tr>\n",
       "      <th>10839</th>\n",
       "      <td>13835</td>\n",
       "      <td>25.0</td>\n",
       "      <td>USA</td>\n",
       "      <td>m</td>\n",
       "      <td>single</td>\n",
       "      <td>n</td>\n",
       "    </tr>\n",
       "    <tr>\n",
       "      <th>10840</th>\n",
       "      <td>13836</td>\n",
       "      <td>31</td>\n",
       "      <td>USA</td>\n",
       "      <td>m</td>\n",
       "      <td>single</td>\n",
       "      <td>y</td>\n",
       "    </tr>\n",
       "    <tr>\n",
       "      <th>10841</th>\n",
       "      <td>13837</td>\n",
       "      <td>22.0</td>\n",
       "      <td>USA</td>\n",
       "      <td>f</td>\n",
       "      <td>single</td>\n",
       "      <td>n</td>\n",
       "    </tr>\n",
       "    <tr>\n",
       "      <th>10842</th>\n",
       "      <td>13838</td>\n",
       "      <td>38</td>\n",
       "      <td>USA</td>\n",
       "      <td>f</td>\n",
       "      <td>married</td>\n",
       "      <td>y</td>\n",
       "    </tr>\n",
       "    <tr>\n",
       "      <th>10843</th>\n",
       "      <td>13839</td>\n",
       "      <td>24</td>\n",
       "      <td>USA</td>\n",
       "      <td>f</td>\n",
       "      <td>single</td>\n",
       "      <td>y</td>\n",
       "    </tr>\n",
       "  </tbody>\n",
       "</table>\n",
       "<p>10844 rows × 6 columns</p>\n",
       "</div>"
      ],
      "text/plain": [
       "         wid   age country gender  marital parenthood\n",
       "0          1  37.0     USA      m  married          y\n",
       "1          2  29.0     IND      m  married          y\n",
       "2          3    25     IND      m   single          n\n",
       "3          4    32     USA      m  married          y\n",
       "4          5    29     USA      m  married          y\n",
       "...      ...   ...     ...    ...      ...        ...\n",
       "10839  13835  25.0     USA      m   single          n\n",
       "10840  13836    31     USA      m   single          y\n",
       "10841  13837  22.0     USA      f   single          n\n",
       "10842  13838    38     USA      f  married          y\n",
       "10843  13839    24     USA      f   single          y\n",
       "\n",
       "[10844 rows x 6 columns]"
      ]
     },
     "execution_count": 3,
     "metadata": {},
     "output_type": "execute_result"
    }
   ],
   "source": [
    "# Replace 'github_raw_url' with the raw URL of your data file on GitHub\n",
    "github_raw_url = 'https://raw.githubusercontent.com/megagonlabs/HappyDB/master/happydb/data/demographic.csv'\n",
    "\n",
    "# Use Pandas to read data directly from the URL\n",
    "df_demo = pd.read_csv(github_raw_url)\n",
    "df_demo"
   ]
  },
  {
   "cell_type": "code",
   "execution_count": 4,
   "metadata": {},
   "outputs": [
    {
     "data": {
      "text/html": [
       "<div>\n",
       "<style scoped>\n",
       "    .dataframe tbody tr th:only-of-type {\n",
       "        vertical-align: middle;\n",
       "    }\n",
       "\n",
       "    .dataframe tbody tr th {\n",
       "        vertical-align: top;\n",
       "    }\n",
       "\n",
       "    .dataframe thead th {\n",
       "        text-align: right;\n",
       "    }\n",
       "</style>\n",
       "<table border=\"1\" class=\"dataframe\">\n",
       "  <thead>\n",
       "    <tr style=\"text-align: right;\">\n",
       "      <th></th>\n",
       "      <th>hmid</th>\n",
       "      <th>wid</th>\n",
       "      <th>reflection_period</th>\n",
       "      <th>original_hm</th>\n",
       "      <th>cleaned_hm</th>\n",
       "      <th>modified</th>\n",
       "      <th>num_sentence</th>\n",
       "      <th>ground_truth_category</th>\n",
       "      <th>predicted_category</th>\n",
       "    </tr>\n",
       "  </thead>\n",
       "  <tbody>\n",
       "    <tr>\n",
       "      <th>2</th>\n",
       "      <td>27675</td>\n",
       "      <td>1936</td>\n",
       "      <td>24h</td>\n",
       "      <td>I went to the gym this morning and did yoga.</td>\n",
       "      <td>I went to the gym this morning and did yoga.</td>\n",
       "      <td>True</td>\n",
       "      <td>1</td>\n",
       "      <td>NaN</td>\n",
       "      <td>exercise</td>\n",
       "    </tr>\n",
       "    <tr>\n",
       "      <th>11</th>\n",
       "      <td>27684</td>\n",
       "      <td>78</td>\n",
       "      <td>24h</td>\n",
       "      <td>I completed my 5 miles run without break. It m...</td>\n",
       "      <td>I completed my 5 miles run without break. It m...</td>\n",
       "      <td>True</td>\n",
       "      <td>2</td>\n",
       "      <td>NaN</td>\n",
       "      <td>exercise</td>\n",
       "    </tr>\n",
       "    <tr>\n",
       "      <th>77</th>\n",
       "      <td>27750</td>\n",
       "      <td>35</td>\n",
       "      <td>24h</td>\n",
       "      <td>Going for some running and exercising after th...</td>\n",
       "      <td>Going for some running and exercising after th...</td>\n",
       "      <td>True</td>\n",
       "      <td>1</td>\n",
       "      <td>NaN</td>\n",
       "      <td>exercise</td>\n",
       "    </tr>\n",
       "    <tr>\n",
       "      <th>88</th>\n",
       "      <td>27761</td>\n",
       "      <td>1430</td>\n",
       "      <td>24h</td>\n",
       "      <td>After taking some off at the gym(due to illnes...</td>\n",
       "      <td>After taking some off at the gym(due to illnes...</td>\n",
       "      <td>True</td>\n",
       "      <td>1</td>\n",
       "      <td>NaN</td>\n",
       "      <td>exercise</td>\n",
       "    </tr>\n",
       "    <tr>\n",
       "      <th>96</th>\n",
       "      <td>27769</td>\n",
       "      <td>76</td>\n",
       "      <td>24h</td>\n",
       "      <td>I went to sportsclub and did running and exerc...</td>\n",
       "      <td>I went to sports club and did running and exer...</td>\n",
       "      <td>False</td>\n",
       "      <td>1</td>\n",
       "      <td>NaN</td>\n",
       "      <td>exercise</td>\n",
       "    </tr>\n",
       "    <tr>\n",
       "      <th>...</th>\n",
       "      <td>...</td>\n",
       "      <td>...</td>\n",
       "      <td>...</td>\n",
       "      <td>...</td>\n",
       "      <td>...</td>\n",
       "      <td>...</td>\n",
       "      <td>...</td>\n",
       "      <td>...</td>\n",
       "      <td>...</td>\n",
       "    </tr>\n",
       "    <tr>\n",
       "      <th>100111</th>\n",
       "      <td>128338</td>\n",
       "      <td>479</td>\n",
       "      <td>24h</td>\n",
       "      <td>Went for a jog.</td>\n",
       "      <td>Went for a jog.</td>\n",
       "      <td>True</td>\n",
       "      <td>1</td>\n",
       "      <td>exercise</td>\n",
       "      <td>exercise</td>\n",
       "    </tr>\n",
       "    <tr>\n",
       "      <th>100140</th>\n",
       "      <td>128367</td>\n",
       "      <td>2844</td>\n",
       "      <td>24h</td>\n",
       "      <td>The final event that made me happy today was h...</td>\n",
       "      <td>The final event that made me happy today was h...</td>\n",
       "      <td>True</td>\n",
       "      <td>1</td>\n",
       "      <td>NaN</td>\n",
       "      <td>exercise</td>\n",
       "    </tr>\n",
       "    <tr>\n",
       "      <th>100332</th>\n",
       "      <td>128562</td>\n",
       "      <td>199</td>\n",
       "      <td>24h</td>\n",
       "      <td>I went running.</td>\n",
       "      <td>I went running.</td>\n",
       "      <td>True</td>\n",
       "      <td>1</td>\n",
       "      <td>exercise</td>\n",
       "      <td>exercise</td>\n",
       "    </tr>\n",
       "    <tr>\n",
       "      <th>100465</th>\n",
       "      <td>128697</td>\n",
       "      <td>3031</td>\n",
       "      <td>24h</td>\n",
       "      <td>Went Jogging yesterday evening and that made m...</td>\n",
       "      <td>Went Jogging yesterday evening and that made m...</td>\n",
       "      <td>True</td>\n",
       "      <td>1</td>\n",
       "      <td>NaN</td>\n",
       "      <td>exercise</td>\n",
       "    </tr>\n",
       "    <tr>\n",
       "      <th>100534</th>\n",
       "      <td>128766</td>\n",
       "      <td>141</td>\n",
       "      <td>24h</td>\n",
       "      <td>I had a great workout last night.</td>\n",
       "      <td>I had a great workout last night.</td>\n",
       "      <td>True</td>\n",
       "      <td>1</td>\n",
       "      <td>NaN</td>\n",
       "      <td>exercise</td>\n",
       "    </tr>\n",
       "  </tbody>\n",
       "</table>\n",
       "<p>1202 rows × 9 columns</p>\n",
       "</div>"
      ],
      "text/plain": [
       "          hmid   wid reflection_period  \\\n",
       "2        27675  1936               24h   \n",
       "11       27684    78               24h   \n",
       "77       27750    35               24h   \n",
       "88       27761  1430               24h   \n",
       "96       27769    76               24h   \n",
       "...        ...   ...               ...   \n",
       "100111  128338   479               24h   \n",
       "100140  128367  2844               24h   \n",
       "100332  128562   199               24h   \n",
       "100465  128697  3031               24h   \n",
       "100534  128766   141               24h   \n",
       "\n",
       "                                              original_hm  \\\n",
       "2            I went to the gym this morning and did yoga.   \n",
       "11      I completed my 5 miles run without break. It m...   \n",
       "77      Going for some running and exercising after th...   \n",
       "88      After taking some off at the gym(due to illnes...   \n",
       "96      I went to sportsclub and did running and exerc...   \n",
       "...                                                   ...   \n",
       "100111                                    Went for a jog.   \n",
       "100140  The final event that made me happy today was h...   \n",
       "100332                                   I went running.    \n",
       "100465  Went Jogging yesterday evening and that made m...   \n",
       "100534                  I had a great workout last night.   \n",
       "\n",
       "                                               cleaned_hm  modified  \\\n",
       "2            I went to the gym this morning and did yoga.      True   \n",
       "11      I completed my 5 miles run without break. It m...      True   \n",
       "77      Going for some running and exercising after th...      True   \n",
       "88      After taking some off at the gym(due to illnes...      True   \n",
       "96      I went to sports club and did running and exer...     False   \n",
       "...                                                   ...       ...   \n",
       "100111                                    Went for a jog.      True   \n",
       "100140  The final event that made me happy today was h...      True   \n",
       "100332                                   I went running.       True   \n",
       "100465  Went Jogging yesterday evening and that made m...      True   \n",
       "100534                  I had a great workout last night.      True   \n",
       "\n",
       "        num_sentence ground_truth_category predicted_category  \n",
       "2                  1                   NaN           exercise  \n",
       "11                 2                   NaN           exercise  \n",
       "77                 1                   NaN           exercise  \n",
       "88                 1                   NaN           exercise  \n",
       "96                 1                   NaN           exercise  \n",
       "...              ...                   ...                ...  \n",
       "100111             1              exercise           exercise  \n",
       "100140             1                   NaN           exercise  \n",
       "100332             1              exercise           exercise  \n",
       "100465             1                   NaN           exercise  \n",
       "100534             1                   NaN           exercise  \n",
       "\n",
       "[1202 rows x 9 columns]"
      ]
     },
     "execution_count": 4,
     "metadata": {},
     "output_type": "execute_result"
    }
   ],
   "source": [
    "df_clean[df_clean[\"predicted_category\"] == \"exercise\"]"
   ]
  },
  {
   "cell_type": "code",
   "execution_count": 5,
   "metadata": {},
   "outputs": [],
   "source": [
    "df_processed = pd.merge(df_clean[df_clean[\"predicted_category\"] == \"exercise\"],df_demo)"
   ]
  },
  {
   "cell_type": "code",
   "execution_count": 7,
   "metadata": {},
   "outputs": [
    {
     "data": {
      "text/plain": [
       "<matplotlib.legend.Legend at 0x16aaaff90>"
      ]
     },
     "execution_count": 7,
     "metadata": {},
     "output_type": "execute_result"
    },
    {
     "data": {
      "image/png": "[encoded data removed]",
      "text/plain": [
       "<Figure size 640x480 with 1 Axes>"
      ]
     },
     "metadata": {},
     "output_type": "display_data"
    }
   ],
   "source": [
    "male_value = len(df_processed[df_processed[\"gender\"]=='m'])\n",
    "female_value = len(df_processed[df_processed[\"gender\"]=='f'])\n",
    "o_value = len(df_processed[df_processed[\"gender\"]=='o'])\n",
    "unknown_value = len(df_processed[df_processed[\"gender\"].isna()])\n",
    "gender_value = np.array([male_value,o_value,female_value,unknown_value])\n",
    "pie_labels = [\"Male\", \"other\", \"female\", \"unknown\"]\n",
    "myexplode = [0.1, 0, 0.1, 0]\n",
    "mycolors = [\"DodgerBlue\", \"red\", \"hotpink\", \"black\"]\n",
    "plt.pie(gender_value,labels = pie_labels,explode = myexplode,shadow = True, colors = mycolors,autopct='%1.1f%%')\n",
    "plt.legend(title = \"Gender Pie Chart\")"
   ]
  },
  {
   "cell_type": "code",
   "execution_count": 8,
   "metadata": {},
   "outputs": [
    {
     "data": {
      "text/plain": [
       "<matplotlib.legend.Legend at 0x13e0d3090>"
      ]
     },
     "execution_count": 8,
     "metadata": {},
     "output_type": "execute_result"
    },
    {
     "data": {
      "image/png": "[encoded data removed]",
      "text/plain": [
       "<Figure size 640x480 with 1 Axes>"
      ]
     },
     "metadata": {},
     "output_type": "display_data"
    }
   ],
   "source": [
    "married_value = len(df_processed[df_processed[\"marital\"]=='married'])\n",
    "widowed_value = len(df_processed[df_processed[\"marital\"]=='widowed'])\n",
    "divorced_value = len(df_processed[df_processed[\"marital\"]=='divorced'])\n",
    "separated_value = len(df_processed[df_processed[\"marital\"]=='separated'])\n",
    "single_value = len(df_processed[df_processed[\"marital\"]=='single'])\n",
    "marital_value = np.array([married_value,widowed_value,divorced_value,single_value,separated_value])\n",
    "m_pie_labels = ['married','widowed','divorced','single','separated']\n",
    "myexplode = [0.1, 0, 0.1, 0, 0.1]\n",
    "plt.pie(marital_value,labels = m_pie_labels, explode = myexplode,autopct='%1.1f%%',textprops={'fontsize':9},shadow = True)\n",
    "plt.legend(title = \"Marital Pie Chart\", loc = \"lower right\")"
   ]
  },
  {
   "cell_type": "code",
   "execution_count": 9,
   "metadata": {},
   "outputs": [
    {
     "name": "stdout",
     "output_type": "stream",
     "text": [
      "Age Group: 18-20, Count: 38\n",
      "Age Group: 21-30, Count: 706\n",
      "Age Group: 31-40, Count: 313\n",
      "Age Group: 41-50, Count: 95\n",
      "Age Group: 51-60, Count: 31\n",
      "Age Group: 61-83.0, Count: 18\n"
     ]
    }
   ],
   "source": [
    "values, counts = np.unique(pd.Series(df_processed[\"age\"]), return_counts=True)\n",
    "male_values,male_counts = np.unique(pd.Series(df_processed[df_processed[\"gender\"]=='m']['age']), return_counts=True)\n",
    "female_values,female_counts = np.unique(pd.Series(df_processed[df_processed[\"gender\"]=='f']['age']), return_counts=True)\n",
    "\n",
    "# Convert the values to floats (removing \"prefer not to say\" in the process)\n",
    "valid_values = []\n",
    "valid_counts = []\n",
    "valid_male_values =[]\n",
    "valid_male_counts = []\n",
    "valid_female_values = []\n",
    "valid_female_counts = []\n",
    "\n",
    "for value, count in zip(values, counts):\n",
    "    try:\n",
    "        age = float(value)\n",
    "        valid_values.append(age)\n",
    "        valid_counts.append(count)\n",
    "    except ValueError:\n",
    "        pass\n",
    "\n",
    "for value, count in zip(male_values, male_counts):\n",
    "    try:\n",
    "        age = float(value)\n",
    "        valid_male_values.append(age)\n",
    "        valid_male_counts.append(count)\n",
    "    except ValueError:\n",
    "        pass\n",
    "for value, count in zip(female_values, female_counts):\n",
    "    try:\n",
    "        age = float(value)\n",
    "        valid_female_values.append(age)\n",
    "        valid_female_counts.append(count)\n",
    "    except ValueError:\n",
    "        pass\n",
    "\n",
    "valid_values = np.array(valid_values)\n",
    "valid_counts = np.array(valid_counts)\n",
    "valid_male_values = np.array(valid_male_values)\n",
    "valid_female_values = np.array(valid_female_values)\n",
    "valid_male_counts = np.array(valid_male_counts)\n",
    "valid_female_counts = np.array(valid_female_counts)\n",
    "\n",
    "# Define the new age groups\n",
    "age_groups = [\n",
    "    (18, 20),\n",
    "    (21, 30),\n",
    "    (31, 40),\n",
    "    (41, 50),\n",
    "    (51, 60),\n",
    "    (61, np.max(valid_values))  # The last group includes all remaining ages\n",
    "]\n",
    "\n",
    "# Initialize new arrays to store the combined age groups\n",
    "combined_values = []\n",
    "combined_counts = []\n",
    "combined_counts_male = []\n",
    "combined_counts_female = []\n",
    "\n",
    "# Combine the age groups\n",
    "for age_group in age_groups:\n",
    "    min_age, max_age = age_group\n",
    "    mask = (valid_values >= min_age) & (valid_values <= max_age)\n",
    "    male_mask = (valid_male_values >= min_age) & (valid_male_values <= max_age)\n",
    "    female_mask = (valid_female_values >= min_age) & (valid_female_values <= max_age)\n",
    "\n",
    "    combined_values.append(f'{min_age}-{max_age}')\n",
    "    combined_counts.append(np.sum(valid_counts[mask]))\n",
    "    combined_counts_male.append(np.sum(valid_male_counts[male_mask]))\n",
    "    combined_counts_female.append(np.sum(valid_female_counts[female_mask]))\n",
    "# Convert the combined values and counts to NumPy arrays\n",
    "combined_values = np.array(combined_values)\n",
    "combined_counts = np.array(combined_counts)\n",
    "\n",
    "# Print the combined age groups and their counts\n",
    "for age_group, count in zip(combined_values, combined_counts):\n",
    "    print(f'Age Group: {age_group}, Count: {count}')\n"
   ]
  },
  {
   "cell_type": "code",
   "execution_count": 10,
   "metadata": {},
   "outputs": [
    {
     "data": {
      "image/png": "[encoded data removed]",
      "text/plain": [
       "<Figure size 640x480 with 1 Axes>"
      ]
     },
     "metadata": {},
     "output_type": "display_data"
    }
   ],
   "source": [
    "combined_values\n",
    "datax = {'total_counts': combined_counts,\n",
    "        'male_counts': combined_counts_male,\n",
    "        \"female_counts\": combined_counts_female}\n",
    "\n",
    "x = np.arange(len(combined_values))  # the label locations\n",
    "width = 0.25  # the width of the bars\n",
    "multiplier = 0\n",
    "\n",
    "fig, ax = plt.subplots(layout='constrained')\n",
    "\n",
    "for attribute, measurement in datax.items():\n",
    "    offset = width * multiplier\n",
    "    rects = ax.bar(x + offset, measurement, width, label=attribute)\n",
    "    ax.bar_label(rects, padding=3)\n",
    "    multiplier += 1\n",
    "\n",
    "# Add some text for labels, title and custom x-axis tick labels, etc.\n",
    "ax.set_ylabel('Counts')\n",
    "ax.set_title('Exercise group by age and gender')\n",
    "ax.set_xticks(x + width, combined_values)\n",
    "ax.legend(loc='upper left', ncols=3)\n",
    "ax.set_ylim(0, 850)\n",
    "\n",
    "plt.show()"
   ]
  },
  {
   "cell_type": "code",
   "execution_count": 35,
   "metadata": {},
   "outputs": [
    {
     "data": {
      "application/vnd.plotly.v1+json": {
       "config": {
        "plotlyServerURL": "https://plot.ly"
       },
       "data": [
        {
         "coloraxis": "coloraxis",
         "geo": "geo",
         "hovertemplate": "country=%{location}<br>count=%{z}<extra></extra>",
         "locations": [
          "USA",
          "IND",
          "CAN",
          "THA",
          "GBR",
          "SRB",
          "VNM",
          "AUS",
          "VEN",
          "DOM",
          "MKD",
          "MEX",
          "UMI",
          "MDA",
          "ITA",
          "PRT",
          "PRI",
          "DNK",
          "TUR"
         ],
         "name": "",
         "type": "choropleth",
         "z": [
          1047,
          104,
          8,
          8,
          6,
          4,
          3,
          3,
          3,
          3,
          2,
          2,
          1,
          1,
          1,
          1,
          1,
          1,
          1
         ]
        }
       ],
       "layout": {
        "coloraxis": {
         "colorbar": {
          "title": {
           "text": "count"
          }
         },
         "colorscale": [
          [
           0,
           "#0d0887"
          ],
          [
           0.1111111111111111,
           "#46039f"
          ],
          [
           0.2222222222222222,
           "#7201a8"
          ],
          [
           0.3333333333333333,
           "#9c179e"
          ],
          [
           0.4444444444444444,
           "#bd3786"
          ],
          [
           0.5555555555555556,
           "#d8576b"
          ],
          [
           0.6666666666666666,
           "#ed7953"
          ],
          [
           0.7777777777777778,
           "#fb9f3a"
          ],
          [
           0.8888888888888888,
           "#fdca26"
          ],
          [
           1,
           "#f0f921"
          ]
         ]
        },
        "geo": {
         "center": {},
         "domain": {
          "x": [
           0,
           1
          ],
          "y": [
           0,
           1
          ]
         },
         "projection": {
          "type": "natural earth"
         }
        },
        "legend": {
         "tracegroupgap": 0
        },
        "template": {
         "data": {
          "bar": [
           {
            "error_x": {
             "color": "#2a3f5f"
            },
            "error_y": {
             "color": "#2a3f5f"
            },
            "marker": {
             "line": {
              "color": "#E5ECF6",
              "width": 0.5
             },
             "pattern": {
              "fillmode": "overlay",
              "size": 10,
              "solidity": 0.2
             }
            },
            "type": "bar"
           }
          ],
          "barpolar": [
           {
            "marker": {
             "line": {
              "color": "#E5ECF6",
              "width": 0.5
             },
             "pattern": {
              "fillmode": "overlay",
              "size": 10,
              "solidity": 0.2
             }
            },
            "type": "barpolar"
           }
          ],
          "carpet": [
           {
            "aaxis": {
             "endlinecolor": "#2a3f5f",
             "gridcolor": "white",
             "linecolor": "white",
             "minorgridcolor": "white",
             "startlinecolor": "#2a3f5f"
            },
            "baxis": {
             "endlinecolor": "#2a3f5f",
             "gridcolor": "white",
             "linecolor": "white",
             "minorgridcolor": "white",
             "startlinecolor": "#2a3f5f"
            },
            "type": "carpet"
           }
          ],
          "choropleth": [
           {
            "colorbar": {
             "outlinewidth": 0,
             "ticks": ""
            },
            "type": "choropleth"
           }
          ],
          "contour": [
           {
            "colorbar": {
             "outlinewidth": 0,
             "ticks": ""
            },
            "colorscale": [
             [
              0,
              "#0d0887"
             ],
             [
              0.1111111111111111,
              "#46039f"
             ],
             [
              0.2222222222222222,
              "#7201a8"
             ],
             [
              0.3333333333333333,
              "#9c179e"
             ],
             [
              0.4444444444444444,
              "#bd3786"
             ],
             [
              0.5555555555555556,
              "#d8576b"
             ],
             [
              0.6666666666666666,
              "#ed7953"
             ],
             [
              0.7777777777777778,
              "#fb9f3a"
             ],
             [
              0.8888888888888888,
              "#fdca26"
             ],
             [
              1,
              "#f0f921"
             ]
            ],
            "type": "contour"
           }
          ],
          "contourcarpet": [
           {
            "colorbar": {
             "outlinewidth": 0,
             "ticks": ""
            },
            "type": "contourcarpet"
           }
          ],
          "heatmap": [
           {
            "colorbar": {
             "outlinewidth": 0,
             "ticks": ""
            },
            "colorscale": [
             [
              0,
              "#0d0887"
             ],
             [
              0.1111111111111111,
              "#46039f"
             ],
             [
              0.2222222222222222,
              "#7201a8"
             ],
             [
              0.3333333333333333,
              "#9c179e"
             ],
             [
              0.4444444444444444,
              "#bd3786"
             ],
             [
              0.5555555555555556,
              "#d8576b"
             ],
             [
              0.6666666666666666,
              "#ed7953"
             ],
             [
              0.7777777777777778,
              "#fb9f3a"
             ],
             [
              0.8888888888888888,
              "#fdca26"
             ],
             [
              1,
              "#f0f921"
             ]
            ],
            "type": "heatmap"
           }
          ],
          "heatmapgl": [
           {
            "colorbar": {
             "outlinewidth": 0,
             "ticks": ""
            },
            "colorscale": [
             [
              0,
              "#0d0887"
             ],
             [
              0.1111111111111111,
              "#46039f"
             ],
             [
              0.2222222222222222,
              "#7201a8"
             ],
             [
              0.3333333333333333,
              "#9c179e"
             ],
             [
              0.4444444444444444,
              "#bd3786"
             ],
             [
              0.5555555555555556,
              "#d8576b"
             ],
             [
              0.6666666666666666,
              "#ed7953"
             ],
             [
              0.7777777777777778,
              "#fb9f3a"
             ],
             [
              0.8888888888888888,
              "#fdca26"
             ],
             [
              1,
              "#f0f921"
             ]
            ],
            "type": "heatmapgl"
           }
          ],
          "histogram": [
           {
            "marker": {
             "pattern": {
              "fillmode": "overlay",
              "size": 10,
              "solidity": 0.2
             }
            },
            "type": "histogram"
           }
          ],
          "histogram2d": [
           {
            "colorbar": {
             "outlinewidth": 0,
             "ticks": ""
            },
            "colorscale": [
             [
              0,
              "#0d0887"
             ],
             [
              0.1111111111111111,
              "#46039f"
             ],
             [
              0.2222222222222222,
              "#7201a8"
             ],
             [
              0.3333333333333333,
              "#9c179e"
             ],
             [
              0.4444444444444444,
              "#bd3786"
             ],
             [
              0.5555555555555556,
              "#d8576b"
             ],
             [
              0.6666666666666666,
              "#ed7953"
             ],
             [
              0.7777777777777778,
              "#fb9f3a"
             ],
             [
              0.8888888888888888,
              "#fdca26"
             ],
             [
              1,
              "#f0f921"
             ]
            ],
            "type": "histogram2d"
           }
          ],
          "histogram2dcontour": [
           {
            "colorbar": {
             "outlinewidth": 0,
             "ticks": ""
            },
            "colorscale": [
             [
              0,
              "#0d0887"
             ],
             [
              0.1111111111111111,
              "#46039f"
             ],
             [
              0.2222222222222222,
              "#7201a8"
             ],
             [
              0.3333333333333333,
              "#9c179e"
             ],
             [
              0.4444444444444444,
              "#bd3786"
             ],
             [
              0.5555555555555556,
              "#d8576b"
             ],
             [
              0.6666666666666666,
              "#ed7953"
             ],
             [
              0.7777777777777778,
              "#fb9f3a"
             ],
             [
              0.8888888888888888,
              "#fdca26"
             ],
             [
              1,
              "#f0f921"
             ]
            ],
            "type": "histogram2dcontour"
           }
          ],
          "mesh3d": [
           {
            "colorbar": {
             "outlinewidth": 0,
             "ticks": ""
            },
            "type": "mesh3d"
           }
          ],
          "parcoords": [
           {
            "line": {
             "colorbar": {
              "outlinewidth": 0,
              "ticks": ""
             }
            },
            "type": "parcoords"
           }
          ],
          "pie": [
           {
            "automargin": true,
            "type": "pie"
           }
          ],
          "scatter": [
           {
            "fillpattern": {
             "fillmode": "overlay",
             "size": 10,
             "solidity": 0.2
            },
            "type": "scatter"
           }
          ],
          "scatter3d": [
           {
            "line": {
             "colorbar": {
              "outlinewidth": 0,
              "ticks": ""
             }
            },
            "marker": {
             "colorbar": {
              "outlinewidth": 0,
              "ticks": ""
             }
            },
            "type": "scatter3d"
           }
          ],
          "scattercarpet": [
           {
            "marker": {
             "colorbar": {
              "outlinewidth": 0,
              "ticks": ""
             }
            },
            "type": "scattercarpet"
           }
          ],
          "scattergeo": [
           {
            "marker": {
             "colorbar": {
              "outlinewidth": 0,
              "ticks": ""
             }
            },
            "type": "scattergeo"
           }
          ],
          "scattergl": [
           {
            "marker": {
             "colorbar": {
              "outlinewidth": 0,
              "ticks": ""
             }
            },
            "type": "scattergl"
           }
          ],
          "scattermapbox": [
           {
            "marker": {
             "colorbar": {
              "outlinewidth": 0,
              "ticks": ""
             }
            },
            "type": "scattermapbox"
           }
          ],
          "scatterpolar": [
           {
            "marker": {
             "colorbar": {
              "outlinewidth": 0,
              "ticks": ""
             }
            },
            "type": "scatterpolar"
           }
          ],
          "scatterpolargl": [
           {
            "marker": {
             "colorbar": {
              "outlinewidth": 0,
              "ticks": ""
             }
            },
            "type": "scatterpolargl"
           }
          ],
          "scatterternary": [
           {
            "marker": {
             "colorbar": {
              "outlinewidth": 0,
              "ticks": ""
             }
            },
            "type": "scatterternary"
           }
          ],
          "surface": [
           {
            "colorbar": {
             "outlinewidth": 0,
             "ticks": ""
            },
            "colorscale": [
             [
              0,
              "#0d0887"
             ],
             [
              0.1111111111111111,
              "#46039f"
             ],
             [
              0.2222222222222222,
              "#7201a8"
             ],
             [
              0.3333333333333333,
              "#9c179e"
             ],
             [
              0.4444444444444444,
              "#bd3786"
             ],
             [
              0.5555555555555556,
              "#d8576b"
             ],
             [
              0.6666666666666666,
              "#ed7953"
             ],
             [
              0.7777777777777778,
              "#fb9f3a"
             ],
             [
              0.8888888888888888,
              "#fdca26"
             ],
             [
              1,
              "#f0f921"
             ]
            ],
            "type": "surface"
           }
          ],
          "table": [
           {
            "cells": {
             "fill": {
              "color": "#EBF0F8"
             },
             "line": {
              "color": "white"
             }
            },
            "header": {
             "fill": {
              "color": "#C8D4E3"
             },
             "line": {
              "color": "white"
             }
            },
            "type": "table"
           }
          ]
         },
         "layout": {
          "annotationdefaults": {
           "arrowcolor": "#2a3f5f",
           "arrowhead": 0,
           "arrowwidth": 1
          },
          "autotypenumbers": "strict",
          "coloraxis": {
           "colorbar": {
            "outlinewidth": 0,
            "ticks": ""
           }
          },
          "colorscale": {
           "diverging": [
            [
             0,
             "#8e0152"
            ],
            [
             0.1,
             "#c51b7d"
            ],
            [
             0.2,
             "#de77ae"
            ],
            [
             0.3,
             "#f1b6da"
            ],
            [
             0.4,
             "#fde0ef"
            ],
            [
             0.5,
             "#f7f7f7"
            ],
            [
             0.6,
             "#e6f5d0"
            ],
            [
             0.7,
             "#b8e186"
            ],
            [
             0.8,
             "#7fbc41"
            ],
            [
             0.9,
             "#4d9221"
            ],
            [
             1,
             "#276419"
            ]
           ],
           "sequential": [
            [
             0,
             "#0d0887"
            ],
            [
             0.1111111111111111,
             "#46039f"
            ],
            [
             0.2222222222222222,
             "#7201a8"
            ],
            [
             0.3333333333333333,
             "#9c179e"
            ],
            [
             0.4444444444444444,
             "#bd3786"
            ],
            [
             0.5555555555555556,
             "#d8576b"
            ],
            [
             0.6666666666666666,
             "#ed7953"
            ],
            [
             0.7777777777777778,
             "#fb9f3a"
            ],
            [
             0.8888888888888888,
             "#fdca26"
            ],
            [
             1,
             "#f0f921"
            ]
           ],
           "sequentialminus": [
            [
             0,
             "#0d0887"
            ],
            [
             0.1111111111111111,
             "#46039f"
            ],
            [
             0.2222222222222222,
             "#7201a8"
            ],
            [
             0.3333333333333333,
             "#9c179e"
            ],
            [
             0.4444444444444444,
             "#bd3786"
            ],
            [
             0.5555555555555556,
             "#d8576b"
            ],
            [
             0.6666666666666666,
             "#ed7953"
            ],
            [
             0.7777777777777778,
             "#fb9f3a"
            ],
            [
             0.8888888888888888,
             "#fdca26"
            ],
            [
             1,
             "#f0f921"
            ]
           ]
          },
          "colorway": [
           "#636efa",
           "#EF553B",
           "#00cc96",
           "#ab63fa",
           "#FFA15A",
           "#19d3f3",
           "#FF6692",
           "#B6E880",
           "#FF97FF",
           "#FECB52"
          ],
          "font": {
           "color": "#2a3f5f"
          },
          "geo": {
           "bgcolor": "white",
           "lakecolor": "white",
           "landcolor": "#E5ECF6",
           "showlakes": true,
           "showland": true,
           "subunitcolor": "white"
          },
          "hoverlabel": {
           "align": "left"
          },
          "hovermode": "closest",
          "mapbox": {
           "style": "light"
          },
          "paper_bgcolor": "white",
          "plot_bgcolor": "#E5ECF6",
          "polar": {
           "angularaxis": {
            "gridcolor": "white",
            "linecolor": "white",
            "ticks": ""
           },
           "bgcolor": "#E5ECF6",
           "radialaxis": {
            "gridcolor": "white",
            "linecolor": "white",
            "ticks": ""
           }
          },
          "scene": {
           "xaxis": {
            "backgroundcolor": "#E5ECF6",
            "gridcolor": "white",
            "gridwidth": 2,
            "linecolor": "white",
            "showbackground": true,
            "ticks": "",
            "zerolinecolor": "white"
           },
           "yaxis": {
            "backgroundcolor": "#E5ECF6",
            "gridcolor": "white",
            "gridwidth": 2,
            "linecolor": "white",
            "showbackground": true,
            "ticks": "",
            "zerolinecolor": "white"
           },
           "zaxis": {
            "backgroundcolor": "#E5ECF6",
            "gridcolor": "white",
            "gridwidth": 2,
            "linecolor": "white",
            "showbackground": true,
            "ticks": "",
            "zerolinecolor": "white"
           }
          },
          "shapedefaults": {
           "line": {
            "color": "#2a3f5f"
           }
          },
          "ternary": {
           "aaxis": {
            "gridcolor": "white",
            "linecolor": "white",
            "ticks": ""
           },
           "baxis": {
            "gridcolor": "white",
            "linecolor": "white",
            "ticks": ""
           },
           "bgcolor": "#E5ECF6",
           "caxis": {
            "gridcolor": "white",
            "linecolor": "white",
            "ticks": ""
           }
          },
          "title": {
           "x": 0.05
          },
          "xaxis": {
           "automargin": true,
           "gridcolor": "white",
           "linecolor": "white",
           "ticks": "",
           "title": {
            "standoff": 15
           },
           "zerolinecolor": "white",
           "zerolinewidth": 2
          },
          "yaxis": {
           "automargin": true,
           "gridcolor": "white",
           "linecolor": "white",
           "ticks": "",
           "title": {
            "standoff": 15
           },
           "zerolinecolor": "white",
           "zerolinewidth": 2
          }
         }
        },
        "title": {
         "text": "The Number of person excerise"
        }
       }
      }
     },
     "metadata": {},
     "output_type": "display_data"
    }
   ],
   "source": [
    "data_counts = df_processed['country'].value_counts().reset_index().rename(columns={\"index\": \"value\", 0: \"count\"})\n",
    "# Create basic choropleth map\n",
    "fig = px.choropleth(data_counts, locations='country', color='count',\n",
    "                    projection='natural earth', title='The Number of person excerise')\n",
    "fig.show()"
   ]
  },
  {
   "cell_type": "code",
   "execution_count": null,
   "metadata": {},
   "outputs": [],
   "source": []
  }
 ],
 "metadata": {
  "kernelspec": {
   "display_name": "Python 3",
   "language": "python",
   "name": "python3"
  },
  "language_info": {
   "codemirror_mode": {
    "name": "ipython",
    "version": 3
   },
   "file_extension": ".py",
   "mimetype": "text/x-python",
   "name": "python",
   "nbconvert_exporter": "python",
   "pygments_lexer": "ipython3",
   "version": "3.11.5"
  },
  "orig_nbformat": 4
 },
 "nbformat": 4,
 "nbformat_minor": 2
}
